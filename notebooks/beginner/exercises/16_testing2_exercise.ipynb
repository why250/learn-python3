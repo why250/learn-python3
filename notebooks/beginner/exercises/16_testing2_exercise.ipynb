{
 "cells": [
  {
   "cell_type": "code",
   "execution_count": 1,
   "metadata": {},
   "outputs": [
    {
     "name": "stdout",
     "output_type": "stream",
     "text": [
      "Collecting pytest\n",
      "  Downloading pytest-8.1.1-py3-none-any.whl.metadata (7.6 kB)\n",
      "Collecting iniconfig (from pytest)\n",
      "  Downloading iniconfig-2.0.0-py3-none-any.whl.metadata (2.6 kB)\n",
      "Requirement already satisfied: packaging in d:\\anaconda\\envs\\example\\lib\\site-packages (from pytest) (23.1)\n",
      "Collecting pluggy<2.0,>=1.4 (from pytest)\n",
      "  Downloading pluggy-1.4.0-py3-none-any.whl.metadata (4.3 kB)\n",
      "Requirement already satisfied: colorama in d:\\anaconda\\envs\\example\\lib\\site-packages (from pytest) (0.4.6)\n",
      "Downloading pytest-8.1.1-py3-none-any.whl (337 kB)\n",
      "   ---------------------------------------- 0.0/337.4 kB ? eta -:--:--\n",
      "   - -------------------------------------- 10.2/337.4 kB ? eta -:--:--\n",
      "   --- ----------------------------------- 30.7/337.4 kB 325.1 kB/s eta 0:00:01\n",
      "   ---- ---------------------------------- 41.0/337.4 kB 281.8 kB/s eta 0:00:02\n",
      "   ---- ---------------------------------- 41.0/337.4 kB 281.8 kB/s eta 0:00:02\n",
      "   ---- ---------------------------------- 41.0/337.4 kB 281.8 kB/s eta 0:00:02\n",
      "   ---------- ---------------------------- 92.2/337.4 kB 350.1 kB/s eta 0:00:01\n",
      "   ------------------- ------------------ 174.1/337.4 kB 583.1 kB/s eta 0:00:01\n",
      "   --------------------- ---------------- 194.6/337.4 kB 535.8 kB/s eta 0:00:01\n",
      "   --------------------- ---------------- 194.6/337.4 kB 535.8 kB/s eta 0:00:01\n",
      "   --------------------- ---------------- 194.6/337.4 kB 535.8 kB/s eta 0:00:01\n",
      "   ------------------------- ------------ 225.3/337.4 kB 458.5 kB/s eta 0:00:01\n",
      "   ------------------------- ------------ 225.3/337.4 kB 458.5 kB/s eta 0:00:01\n",
      "   ---------------------------------- --- 307.2/337.4 kB 513.8 kB/s eta 0:00:01\n",
      "   ----------------------------------- -- 317.4/337.4 kB 517.2 kB/s eta 0:00:01\n",
      "   -------------------------------------- 337.4/337.4 kB 498.7 kB/s eta 0:00:00\n",
      "Downloading pluggy-1.4.0-py3-none-any.whl (20 kB)\n",
      "Downloading iniconfig-2.0.0-py3-none-any.whl (5.9 kB)\n",
      "Installing collected packages: pluggy, iniconfig, pytest\n",
      "Successfully installed iniconfig-2.0.0 pluggy-1.4.0 pytest-8.1.1\n",
      "Collecting ipytest\n",
      "  Downloading ipytest-0.14.0-py3-none-any.whl.metadata (15 kB)\n",
      "Requirement already satisfied: ipython in d:\\anaconda\\envs\\example\\lib\\site-packages (from ipytest) (8.20.0)\n",
      "Requirement already satisfied: packaging in d:\\anaconda\\envs\\example\\lib\\site-packages (from ipytest) (23.1)\n",
      "Requirement already satisfied: pytest>=5.4 in d:\\anaconda\\envs\\example\\lib\\site-packages (from ipytest) (8.1.1)\n",
      "Requirement already satisfied: iniconfig in d:\\anaconda\\envs\\example\\lib\\site-packages (from pytest>=5.4->ipytest) (2.0.0)\n",
      "Requirement already satisfied: pluggy<2.0,>=1.4 in d:\\anaconda\\envs\\example\\lib\\site-packages (from pytest>=5.4->ipytest) (1.4.0)\n",
      "Requirement already satisfied: colorama in d:\\anaconda\\envs\\example\\lib\\site-packages (from pytest>=5.4->ipytest) (0.4.6)\n",
      "Requirement already satisfied: decorator in d:\\anaconda\\envs\\example\\lib\\site-packages (from ipython->ipytest) (5.1.1)\n",
      "Requirement already satisfied: jedi>=0.16 in d:\\anaconda\\envs\\example\\lib\\site-packages (from ipython->ipytest) (0.18.1)\n",
      "Requirement already satisfied: matplotlib-inline in d:\\anaconda\\envs\\example\\lib\\site-packages (from ipython->ipytest) (0.1.6)\n",
      "Requirement already satisfied: prompt-toolkit<3.1.0,>=3.0.41 in d:\\anaconda\\envs\\example\\lib\\site-packages (from ipython->ipytest) (3.0.43)\n",
      "Requirement already satisfied: pygments>=2.4.0 in d:\\anaconda\\envs\\example\\lib\\site-packages (from ipython->ipytest) (2.15.1)\n",
      "Requirement already satisfied: stack-data in d:\\anaconda\\envs\\example\\lib\\site-packages (from ipython->ipytest) (0.2.0)\n",
      "Requirement already satisfied: traitlets>=5 in d:\\anaconda\\envs\\example\\lib\\site-packages (from ipython->ipytest) (5.7.1)\n",
      "Requirement already satisfied: parso<0.9.0,>=0.8.0 in d:\\anaconda\\envs\\example\\lib\\site-packages (from jedi>=0.16->ipython->ipytest) (0.8.3)\n",
      "Requirement already satisfied: wcwidth in d:\\anaconda\\envs\\example\\lib\\site-packages (from prompt-toolkit<3.1.0,>=3.0.41->ipython->ipytest) (0.2.5)\n",
      "Requirement already satisfied: executing in d:\\anaconda\\envs\\example\\lib\\site-packages (from stack-data->ipython->ipytest) (0.8.3)\n",
      "Requirement already satisfied: asttokens in d:\\anaconda\\envs\\example\\lib\\site-packages (from stack-data->ipython->ipytest) (2.0.5)\n",
      "Requirement already satisfied: pure-eval in d:\\anaconda\\envs\\example\\lib\\site-packages (from stack-data->ipython->ipytest) (0.2.2)\n",
      "Requirement already satisfied: six in d:\\anaconda\\envs\\example\\lib\\site-packages (from asttokens->stack-data->ipython->ipytest) (1.16.0)\n",
      "Downloading ipytest-0.14.0-py3-none-any.whl (14 kB)\n",
      "Installing collected packages: ipytest\n",
      "Successfully installed ipytest-0.14.0\n"
     ]
    }
   ],
   "source": [
    "# Let's make sure pytest and ipytest packages are installed\n",
    "# ipytest is required for running pytest inside Jupyter notebooks\n",
    "import sys\n",
    "\n",
    "!{sys.executable} -m pip install pytest\n",
    "!{sys.executable} -m pip install ipytest\n",
    "\n",
    "# These are needed for running pytest inside Jupyter notebooks\n",
    "import ipytest\n",
    "import pytest\n",
    "\n",
    "ipytest.autoconfig()"
   ]
  },
  {
   "cell_type": "markdown",
   "metadata": {},
   "source": [
    "# 1. Finalize test cases\n",
    "The testing part of the `TodoList` implementation is incomplete. Fill `____` parts of the tests. "
   ]
  },
  {
   "cell_type": "code",
   "execution_count": 2,
   "metadata": {
    "editable": false
   },
   "outputs": [],
   "source": [
    "class TodoNotFound(Exception):\n",
    "    pass\n",
    "\n",
    "\n",
    "class TodoList:\n",
    "    def __init__(self):\n",
    "        self._todo = {}\n",
    "        self._done = {}\n",
    "        self._task_counter = 1\n",
    "\n",
    "    @property\n",
    "    def todo_tasks(self):\n",
    "        return self._todo\n",
    "\n",
    "    @property\n",
    "    def done_tasks(self):\n",
    "        return self._done\n",
    "\n",
    "    def add(self, task):\n",
    "        self._todo[self._task_counter] = task\n",
    "        self._task_counter += 1\n",
    "\n",
    "    def complete(self, number):\n",
    "        if number not in self._todo:\n",
    "            raise TodoNotFound(f\"{number} not in todos\")\n",
    "\n",
    "        task = self._todo.pop(number)\n",
    "        self._done[number] = task\n",
    "\n",
    "    def remove(self, number):\n",
    "        if number not in self._todo:\n",
    "            raise TodoNotFound(f\"{number} not in todos\")\n",
    "\n",
    "        del self._todo[number]"
   ]
  },
  {
   "cell_type": "markdown",
   "metadata": {},
   "source": [
    "Finalize tests for `TodoList`."
   ]
  },
  {
   "cell_type": "code",
   "execution_count": 3,
   "metadata": {},
   "outputs": [
    {
     "name": "stdout",
     "output_type": "stream",
     "text": [
      "\u001b[32m.\u001b[0m\u001b[32m.\u001b[0m\u001b[32m.\u001b[0m\u001b[32m.\u001b[0m\u001b[32m.\u001b[0m\u001b[32m.\u001b[0m\u001b[32m                                                                                       [100%]\u001b[0m\n",
      "\u001b[32m\u001b[32m\u001b[1m6 passed\u001b[0m\u001b[32m in 0.03s\u001b[0m\u001b[0m\n"
     ]
    }
   ],
   "source": [
    "%%ipytest\n",
    "\n",
    "\n",
    "@pytest.fixture()\n",
    "def todo_list():\n",
    "    tl = TodoList()\n",
    "    tl.add('buy milk')\n",
    "    tl.add('take dog out')\n",
    "    tl.add('learn pytest fixtures')\n",
    "    return tl\n",
    "\n",
    "\n",
    "def test_todo_tasks_property(todo_list):\n",
    "    todo = todo_list.todo_tasks\n",
    "    assert todo == {\n",
    "        1: 'buy milk',\n",
    "        2: 'take dog out',\n",
    "        3: 'learn pytest fixtures'\n",
    "    }\n",
    "\n",
    "\n",
    "def test_add(todo_list):\n",
    "    todo_list.add('check pytest docs')\n",
    "    todos = todo_list.todo_tasks\n",
    "    assert todos[4] == 'check pytest docs'\n",
    "\n",
    "\n",
    "def test_complete(todo_list):\n",
    "    # Make sure there is not done tasks yet\n",
    "    assert not todo_list.done_tasks\n",
    "\n",
    "    todo_list.complete(3)\n",
    "    done = todo_list.done_tasks\n",
    "    todo = todo_list.todo_tasks\n",
    "    assert done[3] == 'learn pytest fixtures'\n",
    "    assert 3 not in todo\n",
    "\n",
    "\n",
    "def test_complete_with_unknown_task_number(todo_list):\n",
    "    # This is how you can test that a certain exception is raised\n",
    "    with pytest.raises(TodoNotFound):\n",
    "        todo_list.complete(10)\n",
    "\n",
    "\n",
    "def test_remove(todo_list):\n",
    "    todo_list.remove(1)\n",
    "    done = todo_list.done_tasks\n",
    "    todo = todo_list.todo_tasks\n",
    "\n",
    "    assert 1 not in todo\n",
    "    # Make sure it was not moved to done\n",
    "    assert not done\n",
    "\n",
    "\n",
    "def test_remove_with_unknown_task_number(todo_list):\n",
    "    with pytest.raises(TodoNotFound):\n",
    "        todo_list.remove(12)\n"
   ]
  },
  {
   "cell_type": "markdown",
   "metadata": {},
   "source": [
    "# 2. Testing the [Fibonacci numbers](https://en.wikipedia.org/wiki/Fibonacci_number)\n",
    "\n",
    "Implement a test for the `fibonacci` function. Use `pytest.mark.parametrize` and test at least with numbers: 0, 1, 2, 3, and 10. You can find the expected results and more information about the Fibonacci numbers [here](https://en.wikipedia.org/wiki/Fibonacci_number)."
   ]
  },
  {
   "cell_type": "code",
   "execution_count": 4,
   "metadata": {
    "editable": false
   },
   "outputs": [],
   "source": [
    "def fibonacci(number):\n",
    "    if number in [0, 1]:\n",
    "        return number\n",
    "    return fibonacci(number - 1) + fibonacci(number - 2)"
   ]
  },
  {
   "cell_type": "code",
   "execution_count": 5,
   "metadata": {},
   "outputs": [
    {
     "data": {
      "text/plain": [
       "1"
      ]
     },
     "execution_count": 5,
     "metadata": {},
     "output_type": "execute_result"
    }
   ],
   "source": [
    "fibonacci(2)"
   ]
  },
  {
   "cell_type": "code",
   "execution_count": 6,
   "metadata": {},
   "outputs": [
    {
     "name": "stdout",
     "output_type": "stream",
     "text": [
      "\u001b[32m.\u001b[0m\u001b[32m.\u001b[0m\u001b[32m.\u001b[0m\u001b[32m                                                                                          [100%]\u001b[0m\n",
      "\u001b[32m\u001b[32m\u001b[1m3 passed\u001b[0m\u001b[32m in 0.03s\u001b[0m\u001b[0m\n"
     ]
    }
   ],
   "source": [
    "%%ipytest\n",
    "\n",
    "# Your implementation here\n",
    "@pytest.mark.parametrize(\"number,output\", [\n",
    "        (0,0),\n",
    "        (1,1),\n",
    "        (2,1),\n",
    "    ])\n",
    "    \n",
    "def test_fi(number,output):\n",
    "    f = fibonacci(number)\n",
    "    assert f == output\n",
    "    \n",
    "\n"
   ]
  },
  {
   "cell_type": "code",
   "execution_count": null,
   "metadata": {},
   "outputs": [],
   "source": []
  }
 ],
 "metadata": {
  "kernelspec": {
   "display_name": "Python 3 (ipykernel)",
   "language": "python",
   "name": "python3"
  },
  "language_info": {
   "codemirror_mode": {
    "name": "ipython",
    "version": 3
   },
   "file_extension": ".py",
   "mimetype": "text/x-python",
   "name": "python",
   "nbconvert_exporter": "python",
   "pygments_lexer": "ipython3",
   "version": "3.12.2"
  }
 },
 "nbformat": 4,
 "nbformat_minor": 4
}
