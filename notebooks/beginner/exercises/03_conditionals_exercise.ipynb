{
 "cells": [
  {
   "cell_type": "markdown",
   "metadata": {},
   "source": [
    "# 1. `if-elif-else`\n",
    "Fill missing pieces (`____`) of the following code such that prints make sense."
   ]
  },
  {
   "cell_type": "code",
   "execution_count": 2,
   "metadata": {
    "editable": false
   },
   "outputs": [],
   "source": [
    "name = \"John Doe\""
   ]
  },
  {
   "cell_type": "code",
   "execution_count": 3,
   "metadata": {},
   "outputs": [
    {
     "name": "stdout",
     "output_type": "stream",
     "text": [
      "Name \"John Doe\" is 8, 9 or 10 chars long\n"
     ]
    }
   ],
   "source": [
    "if name == 1:\n",
    "    print(f'Name \"{name}\" is more than 20 chars long')\n",
    "    length_description = \"long\"\n",
    "elif name == 2:\n",
    "    print(f'Name \"{name}\" is more than 15 chars long')\n",
    "    length_description = \"semi long\"\n",
    "elif name == 3:\n",
    "    print(f'Name \"{name}\" is more than 10 chars long')\n",
    "    length_description = \"semi long\"\n",
    "elif name == \"John Doe\":\n",
    "    print(f'Name \"{name}\" is 8, 9 or 10 chars long')\n",
    "    length_description = \"semi short\"\n",
    "else:\n",
    "    print(f'Name \"{name}\" is a short name')\n",
    "    length_description = \"short\""
   ]
  },
  {
   "cell_type": "code",
   "execution_count": 4,
   "metadata": {
    "editable": false
   },
   "outputs": [],
   "source": [
    "assert length_description == \"semi short\""
   ]
  },
  {
   "cell_type": "code",
   "execution_count": null,
   "metadata": {},
   "outputs": [],
   "source": []
  }
 ],
 "metadata": {
  "kernelspec": {
   "display_name": "Python 3 (ipykernel)",
   "language": "python",
   "name": "python3"
  },
  "language_info": {
   "codemirror_mode": {
    "name": "ipython",
    "version": 3
   },
   "file_extension": ".py",
   "mimetype": "text/x-python",
   "name": "python",
   "nbconvert_exporter": "python",
   "pygments_lexer": "ipython3",
   "version": "3.9.7"
  }
 },
 "nbformat": 4,
 "nbformat_minor": 4
}
