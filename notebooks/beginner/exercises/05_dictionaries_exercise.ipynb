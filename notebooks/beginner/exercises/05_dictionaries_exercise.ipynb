{
 "cells": [
  {
   "cell_type": "markdown",
   "metadata": {},
   "source": [
    "# 1. Populating a dictionary\n",
    "Create a dictionary by using all the given variables."
   ]
  },
  {
   "cell_type": "code",
   "execution_count": 1,
   "metadata": {
    "editable": false
   },
   "outputs": [],
   "source": [
    "first_name = \"John\"\n",
    "last_name = \"Doe\"\n",
    "favorite_hobby = \"Python\"\n",
    "sports_hobby = \"gym\"\n",
    "age = 82"
   ]
  },
  {
   "cell_type": "code",
   "execution_count": 6,
   "metadata": {},
   "outputs": [
    {
     "data": {
      "text/plain": [
       "{'name': 'John Doe', 'age': 82, 'hobbies': ['Python', 'gym']}"
      ]
     },
     "execution_count": 6,
     "metadata": {},
     "output_type": "execute_result"
    }
   ],
   "source": [
    "# Your implementation\n",
    "my_dict = dict()\n",
    "my_dict[\"name\"]=first_name+\" \"+last_name\n",
    "my_dict[\"age\"]=age\n",
    "my_dict[\"hobbies\"]=[favorite_hobby,sports_hobby]\n",
    "my_dict\n"
   ]
  },
  {
   "cell_type": "code",
   "execution_count": 7,
   "metadata": {
    "editable": false
   },
   "outputs": [],
   "source": [
    "assert my_dict == {\"name\": \"John Doe\", \"age\": 82, \"hobbies\": [\"Python\", \"gym\"]}"
   ]
  },
  {
   "cell_type": "markdown",
   "metadata": {},
   "source": [
    "# 2. Accessing and merging dictionaries\n",
    "Combine `dict1`, `dict2`, and `dict3` into `my_dict`. In addition, get the value of `special_key` from `my_dict` into a `special_value` variable. Note that original dictionaries should stay untouched and `special_key` should be removed from `my_dict`."
   ]
  },
  {
   "cell_type": "code",
   "execution_count": 19,
   "metadata": {
    "editable": false
   },
   "outputs": [],
   "source": [
    "dict1 = dict(key1=\"This is not that hard\", key2=\"Python is still cool\")\n",
    "dict2 = {\"key1\": 123, \"special_key\": \"secret\"}\n",
    "# This is also a away to initialize a dict (list of tuples)\n",
    "dict3 = dict([(\"key2\", 456), (\"keyX\", \"X\")])"
   ]
  },
  {
   "cell_type": "code",
   "execution_count": 22,
   "metadata": {},
   "outputs": [],
   "source": [
    "# 'Your impelementation'\n",
    "my_dict = dict(dict1)\n",
    "my_dict.update(dict2)\n",
    "my_dict.update(dict3)\n",
    "special_value = my_dict[\"special_key\"]\n",
    "# my_dict.pop(\"special_key\")\n",
    "del my_dict[\"special_key\"]"
   ]
  },
  {
   "cell_type": "code",
   "execution_count": 23,
   "metadata": {
    "editable": false
   },
   "outputs": [],
   "source": [
    "assert my_dict == {\"key1\": 123, \"key2\": 456, \"keyX\": \"X\"}\n",
    "assert special_value == \"secret\"\n",
    "\n",
    "# Let's check that the originals are untouched\n",
    "assert dict1 == {\"key1\": \"This is not that hard\", \"key2\": \"Python is still cool\"}\n",
    "assert dict2 == {\"key1\": 123, \"special_key\": \"secret\"}\n",
    "assert dict3 == {\"key2\": 456, \"keyX\": \"X\"}"
   ]
  },
  {
   "cell_type": "code",
   "execution_count": null,
   "metadata": {},
   "outputs": [],
   "source": []
  },
  {
   "cell_type": "code",
   "execution_count": null,
   "metadata": {},
   "outputs": [],
   "source": []
  }
 ],
 "metadata": {
  "celltoolbar": "Edit Metadata",
  "kernelspec": {
   "display_name": "Python 3 (ipykernel)",
   "language": "python",
   "name": "python3"
  },
  "language_info": {
   "codemirror_mode": {
    "name": "ipython",
    "version": 3
   },
   "file_extension": ".py",
   "mimetype": "text/x-python",
   "name": "python",
   "nbconvert_exporter": "python",
   "pygments_lexer": "ipython3",
   "version": "3.9.7"
  }
 },
 "nbformat": 4,
 "nbformat_minor": 4
}
